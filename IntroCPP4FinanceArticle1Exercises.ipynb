{
  "nbformat": 4,
  "nbformat_minor": 0,
  "metadata": {
    "colab": {
      "provenance": []
    },
    "kernelspec": {
      "name": "python3",
      "display_name": "Python 3"
    },
    "language_info": {
      "name": "python"
    }
  },
  "cells": [
    {
      "cell_type": "code",
      "execution_count": null,
      "metadata": {
        "colab": {
          "base_uri": "https://localhost:8080/"
        },
        "id": "k4je9Wjvhc8o",
        "outputId": "eb85fc48-7adc-4a89-af6a-10311c7054ba"
      },
      "outputs": [
        {
          "output_type": "stream",
          "name": "stdout",
          "text": [
            "\r0% [Working]\r            \rHit:1 http://archive.ubuntu.com/ubuntu jammy InRelease\n",
            "\r0% [Connecting to security.ubuntu.com] [Connected to cloud.r-project.org (108.157.173.54)] [Connecti\r                                                                                                    \rHit:2 http://archive.ubuntu.com/ubuntu jammy-updates InRelease\n",
            "\r0% [Waiting for headers] [Connecting to security.ubuntu.com] [Waiting for headers] [Connecting to pp\r                                                                                                    \rHit:3 http://archive.ubuntu.com/ubuntu jammy-backports InRelease\n",
            "\r0% [Connecting to security.ubuntu.com (185.125.190.39)] [Waiting for headers] [Connecting to ppa.lau\r                                                                                                    \rHit:4 https://developer.download.nvidia.com/compute/cuda/repos/ubuntu2204/x86_64  InRelease\n",
            "Hit:5 https://cloud.r-project.org/bin/linux/ubuntu jammy-cran40/ InRelease\n",
            "Hit:6 http://security.ubuntu.com/ubuntu jammy-security InRelease\n",
            "Hit:7 https://ppa.launchpadcontent.net/c2d4u.team/c2d4u4.0+/ubuntu jammy InRelease\n",
            "Hit:8 https://ppa.launchpadcontent.net/deadsnakes/ppa/ubuntu jammy InRelease\n",
            "Hit:9 https://ppa.launchpadcontent.net/graphics-drivers/ppa/ubuntu jammy InRelease\n",
            "Hit:10 https://ppa.launchpadcontent.net/ubuntugis/ppa/ubuntu jammy InRelease\n",
            "Reading package lists... Done\n",
            "Reading package lists... Done\n",
            "Building dependency tree... Done\n",
            "Reading state information... Done\n",
            "g++ is already the newest version (4:11.2.0-1ubuntu1).\n",
            "0 upgraded, 0 newly installed, 0 to remove and 49 not upgraded.\n"
          ]
        }
      ],
      "source": [
        "!apt-get update\n",
        "!apt-get install g++"
      ]
    },
    {
      "cell_type": "markdown",
      "source": [
        "# Basic Reveiw\n",
        "> This section of the accompanying exercise book will focus on a brief review of C++ basics required for financial applications."
      ],
      "metadata": {
        "id": "BR3-xYVthqaI"
      }
    },
    {
      "cell_type": "code",
      "source": [
        "%%file basic_hello.cpp\n",
        "#include <iostream>\n",
        "#include <string>\n",
        "int main(){\n",
        "    std::cout << \"Hello World!\\n\" << std::endl;\n",
        "    std::string name;\n",
        "    std::cout << \"what is your name fella? \";\n",
        "    std::cin >> name;\n",
        "    //std::cout << \"\\n Hello \" << name << \"!\" << \"\\n\" << std::endl;\n",
        "    return 0;\n",
        "}"
      ],
      "metadata": {
        "colab": {
          "base_uri": "https://localhost:8080/"
        },
        "id": "BEHaDILSh2Hk",
        "outputId": "d1b5f3f5-e820-4898-cd6d-33d09497cd5a"
      },
      "execution_count": null,
      "outputs": [
        {
          "output_type": "stream",
          "name": "stdout",
          "text": [
            "Writing basic_hello.cpp\n"
          ]
        }
      ]
    },
    {
      "cell_type": "code",
      "source": [
        "%%bash\n",
        "g++ basic_hello.cpp -o basic_hello"
      ],
      "metadata": {
        "id": "MPqDL1P4jLDG"
      },
      "execution_count": null,
      "outputs": []
    },
    {
      "cell_type": "code",
      "source": [
        "%%bash\n",
        "./basic_hello"
      ],
      "metadata": {
        "colab": {
          "base_uri": "https://localhost:8080/"
        },
        "id": "yn3ZjbRykLYQ",
        "outputId": "bd212874-bf9a-4a05-af8d-7b2f79602fd2"
      },
      "execution_count": null,
      "outputs": [
        {
          "output_type": "stream",
          "name": "stdout",
          "text": [
            "Hello World!\n",
            "\n",
            "what is your name fella? "
          ]
        }
      ]
    },
    {
      "cell_type": "markdown",
      "source": [
        "> Sadly, this program does not work well in collab in that the input cannot be written using cin. I may explain further why this does not work in collab but for now, you can access the code in my repo"
      ],
      "metadata": {
        "id": "Hi_zpLJLmzDu"
      }
    },
    {
      "cell_type": "markdown",
      "source": [
        "## Structural Programming"
      ],
      "metadata": {
        "id": "qZGc1uj_n7xM"
      }
    },
    {
      "cell_type": "markdown",
      "source": [
        "Basic structure of a procedural progra:\n",
        "- A `main()` function, which is called first in execution of a program.\n",
        "- A set of user-defined functions that can contain individual tasks that form the program.\n",
        "\n",
        "> Below, we will have a tangible example of procedural programming for addition and subtraction."
      ],
      "metadata": {
        "id": "6QZpU8_voAdR"
      }
    },
    {
      "cell_type": "code",
      "source": [
        "%%file procedural_example_one.cpp\n",
        "#include <iostream>\n",
        "void hello_mate();\n",
        "double mult_three_doubles(double x, double y, double z);\n",
        "int main(){\n",
        "    hello_mate();\n",
        "    std::cout << \"3.14 * 0.4 * 2.5 = \" << mult_three_doubles(3.14, 0.4,2.5) << std::endl;\n",
        "    return 0;\n",
        "}\n",
        "void hello_mate(){\n",
        "    std::cout << \"Hello Mate!\\n\" << std::endl;\n",
        "}\n",
        "double mult_three_doubles(double x, double y, double z){\n",
        "    return x * y * z;\n",
        "}"
      ],
      "metadata": {
        "colab": {
          "base_uri": "https://localhost:8080/"
        },
        "id": "5o506pKEn6sA",
        "outputId": "c3e99229-615e-414d-f8f3-0ad2832b09f7"
      },
      "execution_count": null,
      "outputs": [
        {
          "output_type": "stream",
          "name": "stdout",
          "text": [
            "Writing procedural_example_one.cpp\n"
          ]
        }
      ]
    },
    {
      "cell_type": "code",
      "source": [
        "%%bash\n",
        "g++ procedural_example_one.cpp -o procedural_example.cpp\n",
        "./procedural_example.cpp"
      ],
      "metadata": {
        "colab": {
          "base_uri": "https://localhost:8080/"
        },
        "id": "MBafv3x3pBoK",
        "outputId": "cc23b308-c0f7-4f22-bc05-7b41e52c4233"
      },
      "execution_count": null,
      "outputs": [
        {
          "output_type": "stream",
          "name": "stdout",
          "text": [
            "Hello Mate!\n",
            "\n",
            "3.14 * 0.4 * 2.5 = 3.14\n"
          ]
        }
      ]
    },
    {
      "cell_type": "markdown",
      "source": [
        "## C++ Synatx and Style Guidelines\n"
      ],
      "metadata": {
        "id": "288DhiUGrGTJ"
      }
    },
    {
      "cell_type": "markdown",
      "source": [
        "> Writing code that is syntactically correct and stylistically correct is essential for functional financial applications and systems.\n",
        "\n",
        "### Basics:\n",
        "> **code blocks go in curly braces: {}**\n",
        "\n",
        "> C++ is strongly typed, so numerical variable types should be indicated before initialization.\n",
        "\n",
        "> `//` is for single line comments\n",
        "\n",
        "> `/* */` is for multi-line comments\n",
        "\n",
        "> Use clear and consistent spacing.\n",
        "\n",
        "> code may be continued onto multiple lines without the use of a continuation character, and vertical spaces are ignored.\n"
      ],
      "metadata": {
        "id": "q_G7_BPrr2ik"
      }
    },
    {
      "cell_type": "markdown",
      "source": [
        "### Naming Conventions\n",
        "\n",
        "> C++ is case-sensistive\n",
        "\n",
        "> names must beging with a letter or an underscore\n",
        "\n",
        "> Other than the underscore character, special characters, such as `@`, `=`, `$` etc are not allowed.\n",
        "\n",
        "> names must be contiguous\n",
        "\n",
        "> Exact language keywords cannot be used for a variable name. However, langauge keywords can be modfied to be a variable name (eg double can be written as double1)\n",
        "\n",
        "> lower camel case (varNameHere) and snake case (var_name_here) are the most typical naming conventions found in C++.\n"
      ],
      "metadata": {
        "id": "QDvcFEd-t26F"
      }
    },
    {
      "cell_type": "markdown",
      "source": [
        "## Mathematical Operators, and Constants in C++"
      ],
      "metadata": {
        "id": "NquxURyivc3G"
      }
    },
    {
      "cell_type": "markdown",
      "source": [
        "> **order and precedence of mathematical operations is quite similar to the rest of the languages.\n",
        "\n",
        "- Order runs from left to right\n",
        "- Multiplication, division, and modulus take precedence over addition and subtraction.\n",
        "- use parentheses to change precedence\n",
        "\n",
        "### Mathematical Functions in the Std Library\n",
        "\n",
        "> `cos(s)`\n",
        "\n",
        "> `sin(x)`\n",
        "\n",
        "> `tan`\n",
        "\n",
        "> `exp`\n",
        "\n",
        "> `log`\n",
        "\n",
        "> `sqrt`\n",
        "\n",
        "> `cbrt`\n",
        "\n",
        "> `pow`\n",
        "\n",
        "> `hypot`\n"
      ],
      "metadata": {
        "id": "P4HL2wdMvlUC"
      }
    },
    {
      "cell_type": "code",
      "source": [
        "%%file math_example_one.cpp\n",
        "#include <iostream>\n",
        "#include <cmath>\n",
        " double sum_sin_cos(double theta, double phi){\n",
        "     return sin(theta) + cos(phi);\n",
        " }\n",
        " double pow_sin_cos(double theta, double phi){\n",
        "     return pow(sin(theta), cos(phi));\n",
        " }\n",
        " int main(){\n",
        "     std::cout << \"sin(pi/2) + cos(0) = \" << sum_sin_cos(M_PI/2, 0.0) << std::endl;\n",
        "     std::cout << \"sin(pi/4)^cos(0) = \" << pow_sin_cos(M_PI/4, 0.0) << std::endl;\n",
        "     return 0;\n",
        " }"
      ],
      "metadata": {
        "colab": {
          "base_uri": "https://localhost:8080/"
        },
        "id": "mGrBY0X7vgrm",
        "outputId": "a4f971ee-d40b-4ae0-900a-13056b363546"
      },
      "execution_count": null,
      "outputs": [
        {
          "output_type": "stream",
          "name": "stdout",
          "text": [
            "Writing math_example_one.cpp\n"
          ]
        }
      ]
    },
    {
      "cell_type": "code",
      "source": [
        "%%bash\n",
        "g++ math_example_one.cpp -o math_example_one\n",
        "./math_example_one"
      ],
      "metadata": {
        "colab": {
          "base_uri": "https://localhost:8080/"
        },
        "id": "QIeFXm9Hwxob",
        "outputId": "b68aa1fa-25be-41fa-990c-2acd562afb82"
      },
      "execution_count": null,
      "outputs": [
        {
          "output_type": "stream",
          "name": "stdout",
          "text": [
            "sin(pi/2) + cos(0) = 2\n",
            "sin(pi/4)^cos(0) = 0.707107\n"
          ]
        }
      ]
    },
    {
      "cell_type": "markdown",
      "source": [
        "### Zero Coupon Bond Pricing\n",
        "\n",
        "Now, we will focus on teh first financial application: the pricing of a zero coupon bond. Succintly, a zero coupon bond does not yield any coupon payments and can only provide a ROI until its maturity or until it is sold.\n",
        "\n"
      ],
      "metadata": {
        "id": "cV_YkRjRw2c-"
      }
    },
    {
      "cell_type": "code",
      "source": [
        "%%file zero_coupon_bond_ytm.cpp\n",
        "#include <iostream>\n",
        "#include <cmath>\n",
        "double zero_coupon_bond_ytm(double face_value, double price, double maturity_years){\n",
        "    return pow(face_value/price, (1/maturity_years)) -1;\n",
        "}\n",
        "int main(){\n",
        "    std::cout << \"Face value: $100,000, Price: $95,238, Maturity years: 3\" << std::endl;\n",
        "    std::cout << \"YTM: \" << zero_coupon_bond_ytm(100000, 95238, 3) << std::endl;\n",
        "}"
      ],
      "metadata": {
        "colab": {
          "base_uri": "https://localhost:8080/"
        },
        "id": "iy0KTlANwzVn",
        "outputId": "9e3d5fc3-6b62-4afc-f743-466074000564"
      },
      "execution_count": null,
      "outputs": [
        {
          "output_type": "stream",
          "name": "stdout",
          "text": [
            "Writing zero_coupon_bond_ytm.cpp\n"
          ]
        }
      ]
    },
    {
      "cell_type": "code",
      "source": [
        "%%bash\n",
        "g++ zero_coupon_bond_ytm.cpp -o zero_coupon_bond_ytm\n",
        "./zero_coupon_bond_ytm"
      ],
      "metadata": {
        "colab": {
          "base_uri": "https://localhost:8080/"
        },
        "id": "NfJ3EWyq2nOl",
        "outputId": "c0d88567-92a2-4fdb-fef7-50e5e3f8551a"
      },
      "execution_count": null,
      "outputs": [
        {
          "output_type": "stream",
          "name": "stdout",
          "text": [
            "Face value: $100,000, Price: $95,238, Maturity years: 3\n",
            "YTM: 0.0163967\n"
          ]
        }
      ]
    },
    {
      "cell_type": "markdown",
      "source": [
        "> **Note**: In C++ there is no power operator, so we simply use the `pow` function.\n",
        "\n",
        "Additionally, you should know the following about the ``<cmath>` library\n",
        "\n",
        "- `<cmath>` ensures consistency accross compilers.\n",
        "- The standard claims that if one includes the C-style header (`<math.h>` in this case), the symbols will be available in the global namespace and perhaps in namespace std:: (but this is no longer a firm requirement.). By contrast, adding  C++-style header (`<cmath>`) guarantees that the entities will be found in namespace std and perhaps in the global namespace"
      ],
      "metadata": {
        "id": "Zvn-gJ9_hks-"
      }
    },
    {
      "cell_type": "markdown",
      "source": [
        "## Constants\n",
        "\n",
        "- we can set constant using the `const` keyword\n",
        "- Likwise we have constants such the following from the standard library mathematical constants:\n",
        "> `e`, `pi`, `inv_pi`, `inv_sqrt_pi`, `inv_sqrt_two_pi`"
      ],
      "metadata": {
        "id": "T5HjHQyoiytM"
      }
    },
    {
      "cell_type": "code",
      "source": [
        "%%file constants_example.cpp\n",
        "#include <iostream>\n",
        "#include <cmath>\n",
        "const double gravity = 9.80665;\n",
        "double circle_area(double radius){\n",
        "    return M_PI * pow(radius, 2);\n",
        "\n",
        "}\n",
        "//#1-D kinematis very limited motion\n",
        "double kinematics_One(double v0, double acceleration, double time){\n",
        "        return v0 + acceleration * time;\n",
        "}\n",
        "double kinematics_Two(double v0, double acceleration, double time, double x0 = 0.0){\n",
        "    return v0*time + 0.5*acceleration*pow(time, 2) + x0;\n",
        "}\n",
        "\n",
        "double kinematics_Three(double vf, double acceleration, double time, double x0){\n",
        "    return vf*time - 0.5*acceleration*pow(time, 2) + x0;\n",
        "}\n",
        "double kinematics_Four(double v0, double acceleration, double x0 = 0.0, double xf=0.0){\n",
        "    return pow(v0,2) + 2*acceleration*(xf -x0);\n",
        "}\n",
        "double kinematics_Five(double v0, double vf, double time, double x0=0.0){\n",
        "    return 0.5*(v0+vf)*time + x0;\n",
        "}\n",
        "int main(){\n",
        "    double v0_ = gravity/2;\n",
        "    double acceleration_ = gravity/2;\n",
        "    double time_ = 8;\n",
        "    double vf_ = kinematics_One(v0_, acceleration_, time_);\n",
        "    double x0_ = 24;\n",
        "    double x = kinematics_Two(v0_, acceleration_, time_, x0_);\n",
        "    std::cout << \"Gravity: \" << gravity << std::endl;\n",
        "    std::cout << \"pi: \" << M_PI << std::endl;\n",
        "    std::cout << \"Circle area given r = 5: \" << circle_area(5) << std::endl;\n",
        "    std::cout << \"x = v0t + 0.5at^2 = \" << x << std::endl;\n",
        "    std::cout << \"vf = v0 + at = : \" << kinematics_One(v0_, acceleration_, time_) << std::endl;\n",
        "    std::cout << \"x = v_ft - 0.5at^2 = \" << kinematics_Three(vf_, acceleration_, time_, x0_) << std::endl;\n",
        "    std::cout << \"x = 0.5(v0+vf)t = \" << kinematics_Five(v0_, vf_, time_, x0_) << std::endl;\n",
        "    std::cout << \"vf^2 = v_0^2 + 2a(x-x0) = \" << kinematics_Four(v0_, acceleration_, x0_, x) << std::endl;\n",
        "\n",
        "\n",
        "\n",
        "    return 0;\n",
        "}"
      ],
      "metadata": {
        "colab": {
          "base_uri": "https://localhost:8080/"
        },
        "id": "jZ9myZ1FiyB_",
        "outputId": "c6f691a4-2fea-4580-f42e-dfbb2c9bb166"
      },
      "execution_count": null,
      "outputs": [
        {
          "output_type": "stream",
          "name": "stdout",
          "text": [
            "Writing constants_example.cpp\n"
          ]
        }
      ]
    },
    {
      "cell_type": "code",
      "source": [
        "%%bash\n",
        "g++ constants_example.cpp -o constants_example\n",
        "./constants_example"
      ],
      "metadata": {
        "colab": {
          "base_uri": "https://localhost:8080/"
        },
        "id": "TbhMK8qRn03A",
        "outputId": "792b6777-3d64-4be7-b0a2-a45b3471c12b"
      },
      "execution_count": null,
      "outputs": [
        {
          "output_type": "stream",
          "name": "stdout",
          "text": [
            "Gravity: 9.80665\n",
            "pi: 3.14159\n",
            "Circle area given r = 5: 78.5398\n",
            "x = v0t + 0.5at^2 = 220.133\n",
            "vf = v0 + at = : 44.1299\n",
            "x = v_ft - 0.5at^2 = 220.133\n",
            "x = 0.5(v0+vf)t = 220.133\n",
            "vf^2 = v_0^2 + 2a(x-x0) = 1947.45\n"
          ]
        }
      ]
    },
    {
      "cell_type": "markdown",
      "source": [
        "---\n",
        "---\n",
        "---\n",
        "\n",
        "# Helpful C++ Mechanics\n",
        "\n",
        "---\n",
        "---\n",
        "---"
      ],
      "metadata": {
        "id": "oXtN83Tyn0Hs"
      }
    },
    {
      "cell_type": "markdown",
      "source": [
        "## Vector Container"
      ],
      "metadata": {
        "id": "J04ntbne4cKj"
      }
    },
    {
      "cell_type": "markdown",
      "source": [
        "> A vector is part of the Standard Template Library (STL)\n",
        "\n",
        "> The `std::vector` is a generic container that can hold elements of a common arbitrary type (user defined or primitive types).\n",
        "\n",
        ">"
      ],
      "metadata": {
        "id": "TXq8ahe64iY0"
      }
    },
    {
      "cell_type": "code",
      "source": [
        "%%file vector_example_one.cpp\n",
        "#include <iostream>\n",
        "#include <vector>\n",
        "int main(){\n",
        "    std::vector<int> v;\n",
        "    v.push_back(1);\n",
        "    v.push_back(2);\n",
        "    v.push_back(3);\n",
        "    v.push_back(4);\n",
        "    std::vector<double> v2(3);\n",
        "    v2[0] = 1.1;\n",
        "    v2[1] = 2.2;\n",
        "    v2[2] = 3.3; //later on we will have more questions regarding vectors and their usage.\n",
        "\n",
        "    std::vector<bool> v3{true, false};\n",
        "    for(int i = 0; i < v.size(); i++){\n",
        "        std::cout << v[i] << \" \";\n",
        "    }\n",
        "    std::cout << std::endl;\n",
        "    for(int i = 0; i < v2.size(); i++){\n",
        "        std::cout << v2[i] << \" \";\n",
        "    }\n",
        "    std::cout << std::endl;\n",
        "    for(int i=0; i < v3.size(); i++){\n",
        "        std::cout << v3[i] << \" \";\n",
        "    }\n",
        "    return 0;\n",
        "\n",
        "}\n"
      ],
      "metadata": {
        "colab": {
          "base_uri": "https://localhost:8080/"
        },
        "id": "oy4QYM0OxjMi",
        "outputId": "6db712e3-0c37-46cc-f3a1-1e396633e9ad"
      },
      "execution_count": null,
      "outputs": [
        {
          "output_type": "stream",
          "name": "stdout",
          "text": [
            "Writing vector_example_one.cpp\n"
          ]
        }
      ]
    },
    {
      "cell_type": "code",
      "source": [
        "%%bash\n",
        "g++ vector_example_one.cpp -o vector_example_one\n",
        "./vector_example_one"
      ],
      "metadata": {
        "colab": {
          "base_uri": "https://localhost:8080/"
        },
        "id": "Jv3MRmWC6YQA",
        "outputId": "fac1a265-a274-4069-f75f-78b890b1f98d"
      },
      "execution_count": null,
      "outputs": [
        {
          "output_type": "stream",
          "name": "stdout",
          "text": [
            "1 2 3 4 \n",
            "1.1 2.2 3.3 \n",
            "1 0 "
          ]
        }
      ]
    },
    {
      "cell_type": "markdown",
      "source": [
        "> As shown above, we use three diffrent vectors and populate each with values diffrently. v is a vector whose type is only declared first; Subsequently, v is filled with 4 integers. v2 is initialized both with its type and size specified. If we added a fourth value using an index nothing happens. However, you can use `push_back` to add values. Lastly, we can use curly braces to initialize a vector with hard-coded values (e.g. v3."
      ],
      "metadata": {
        "id": "vcLwig7m7xic"
      }
    },
    {
      "cell_type": "code",
      "source": [
        "%%file vector_example_two.cpp\n",
        "#include <iostream>\n",
        "#include <vector>\n",
        "int main(){\n",
        "    std::vector<double> v(3);\n",
        "    v[0] = 1.1;\n",
        "    v[1] = 2.2;\n",
        "    v[2] = 3.3; // later on we will have more questions regarding vectors and their usage.\n",
        "    v[4] = 4.4;\n",
        "    v.push_back(5.5);\n",
        "    for(int i = 0; i < v.size(); i++){\n",
        "        std::cout << v[i] << \" \";\n",
        "    }\n",
        "    return 0;\n",
        "\n",
        "}\n"
      ],
      "metadata": {
        "colab": {
          "base_uri": "https://localhost:8080/"
        },
        "id": "r92XO-Sb6f2D",
        "outputId": "78b119fa-4299-4b19-9b7a-4d9e83ccd2ba"
      },
      "execution_count": null,
      "outputs": [
        {
          "output_type": "stream",
          "name": "stdout",
          "text": [
            "Writing vector_example_two.cpp\n"
          ]
        }
      ]
    },
    {
      "cell_type": "code",
      "source": [
        "%%bash\n",
        "g++ vector_example_two.cpp -o vector_example_two\n",
        "./vector_example_two"
      ],
      "metadata": {
        "colab": {
          "base_uri": "https://localhost:8080/"
        },
        "id": "Gf-t-OSW-Sim",
        "outputId": "69aaa600-bf18-4634-dfbf-493ca5a91091"
      },
      "execution_count": null,
      "outputs": [
        {
          "output_type": "stream",
          "name": "stdout",
          "text": [
            "1.1 2.2 3.3 5.5 "
          ]
        }
      ]
    },
    {
      "cell_type": "markdown",
      "source": [
        "### Member Functions"
      ],
      "metadata": {
        "id": "E05JCGfa_F3B"
      }
    },
    {
      "cell_type": "markdown",
      "source": [
        "> `push_back`: adds a value to the end of the vector\n",
        "\n",
        "> `at`: returns the value at the specified index.\n",
        "\n",
        "> `size`: returns the number of elements that can be in a vector."
      ],
      "metadata": {
        "id": "teW1rof9_UBm"
      }
    },
    {
      "cell_type": "code",
      "source": [
        "%%file vector_example_three.cpp\n",
        "#include <iostream>\n",
        "#include <vector>\n",
        "int main(){\n",
        "    std::vector<int> v;\n",
        "    v.push_back(1);\n",
        "    v.push_back(2);\n",
        "    v.push_back(3);\n",
        "    v.push_back(4);\n",
        "    std::vector<double> v2(3);\n",
        "    //all 3 values will be initialized to 0.0\n",
        "    for(int i =0; i < v2.size(); i++){\n",
        "        std::cout << \"v2[\"<<i<< \"]: \"<< v2[i] << \", \";\n",
        "    }\n",
        "    std::cout << std::endl;\n",
        "    v2[3] = 4.4;\n",
        "    std::cout << \"v2[3] is \" << v2[3] << std::endl;\n",
        "    std::cout << \"v2[4] is \" << v2[4] << std::endl;\n",
        "    std::cout << \"v2[5] is \" << v2[5] << std::endl;\n",
        "    //std::cout << \"v2.at(3) is \" << v2.at(3) << std::endl;\n",
        "    /*Line 20 produces an error; Comment out to verify.\n",
        "    In words, remove the two backslashes \"//\" from line21*/\n",
        "    v2[0] = 1.1;\n",
        "    v2[1] = 2.2;\n",
        "    v2[2] = 3.3; //later on we will have more questions regarding vectors and their usage.\n",
        "\n",
        "    std::vector<bool> v3{true, false};\n",
        "    for(int i = 0; i < v.size(); i++){\n",
        "        std::cout << \"v[\"<<i<<\"]: \"<<v[i] << \", \";\n",
        "    }\n",
        "    std::cout << std::endl;\n",
        "    for(int i =0; i < v2.size(); i++){\n",
        "        std::cout << \"v2[\"<<i<< \"]: \"<< v2[i] << \", \";\n",
        "    }\n",
        "    std::cout << std::endl;\n",
        "    for(int i=0; i < v3.size(); i++){\n",
        "        std::cout <<\"v3[\"<<i<<\"]: \"<< v3[i] << \", \";\n",
        "    }\n",
        "    return 0;\n",
        "}\n"
      ],
      "metadata": {
        "colab": {
          "base_uri": "https://localhost:8080/"
        },
        "id": "1O9v-S6g_TUt",
        "outputId": "f18292b4-35e4-4086-f1a3-ff3d327d0a3c"
      },
      "execution_count": null,
      "outputs": [
        {
          "output_type": "stream",
          "name": "stdout",
          "text": [
            "Writing vector_example_three.cpp\n"
          ]
        }
      ]
    },
    {
      "cell_type": "code",
      "source": [
        "%%bash\n",
        "g++ vector_example_three.cpp -o vector_example_three\n",
        "./vector_example_three"
      ],
      "metadata": {
        "colab": {
          "base_uri": "https://localhost:8080/"
        },
        "id": "fpm6tobU_8dH",
        "outputId": "ca8f71ec-b8f3-4fb2-b73c-c59c86d2cc22"
      },
      "execution_count": null,
      "outputs": [
        {
          "output_type": "stream",
          "name": "stdout",
          "text": [
            "v2[0]: 0, v2[1]: 0, v2[2]: 0, \n",
            "v2[3] is 4.4\n",
            "v2[4] is 8.7841e+247\n",
            "v2[5] is 2.7886e+179\n",
            "v[0]: 1, v[1]: 2, v[2]: 3, v[3]: 4, \n",
            "v2[0]: 1.1, v2[1]: 2.2, v2[2]: 3.3, \n",
            "v3[0]: 1, v3[1]: 0, "
          ]
        }
      ]
    },
    {
      "cell_type": "markdown",
      "source": [
        "> As shown above, the difference bewteen the square bracket operator and the `at` function is that the `at` function performs bound checking. By conttrast, the bracket operator allows the Undefined Behavior for out of bounds indices. In principle, you access values that are at an index that does not belong to the vector. The memory at the location can contain any data value."
      ],
      "metadata": {
        "id": "-p0KTG6vIB-F"
      }
    },
    {
      "cell_type": "code",
      "source": [
        "%%file vector_example_four.cpp\n",
        "#include <vector>\n",
        "#include <iostream>\n",
        "using namespace std;\n",
        "int main()\n",
        "{\n",
        "    vector<int> v;\n",
        "    v.push_back(1);\n",
        "    v.push_back(2);\n",
        "    v.push_back(3);\n",
        "    auto size1 = v.size();\n",
        "    cout << \"size1: \" << size1 << endl;\n",
        "}"
      ],
      "metadata": {
        "id": "y_hPLxP_CIXZ",
        "colab": {
          "base_uri": "https://localhost:8080/"
        },
        "outputId": "02310380-df33-4b23-d2f6-584e368793c2"
      },
      "execution_count": null,
      "outputs": [
        {
          "output_type": "stream",
          "name": "stdout",
          "text": [
            "Writing vector_example_four.cpp\n"
          ]
        }
      ]
    },
    {
      "cell_type": "code",
      "source": [
        "%%bash\n",
        "g++ vector_example_four.cpp -o vector_example_four\n",
        "./vector_example_four"
      ],
      "metadata": {
        "colab": {
          "base_uri": "https://localhost:8080/"
        },
        "id": "FgmhWf1tN50J",
        "outputId": "17f80e63-2f5e-46c7-cc1f-7ab129614b6c"
      },
      "execution_count": null,
      "outputs": [
        {
          "output_type": "stream",
          "name": "stdout",
          "text": [
            "size1: 3\n"
          ]
        }
      ]
    },
    {
      "cell_type": "markdown",
      "source": [
        "> We use auto for the size of a `std::vector` container because the maximum size of a `std::vector` container will vary depending on the compiler settings and the platform you are using.\n",
        "\n"
      ],
      "metadata": {
        "id": "Q8ajpWBvONeh"
      }
    },
    {
      "cell_type": "markdown",
      "source": [
        "## Enum Constants and Classes"
      ],
      "metadata": {
        "id": "253dQlFJSBKQ"
      }
    },
    {
      "cell_type": "markdown",
      "source": [
        "> Enumerated constants, more commonly called enums for short, map text to integers.\n",
        "\n",
        "> Enums can be a great mens of making clearer integer codes by representing them in (contiguous) words.\n",
        "\n"
      ],
      "metadata": {
        "id": "mvUyL9o5SJfh"
      }
    },
    {
      "cell_type": "code",
      "source": [
        "%%file enum_constants.cpp\n",
        "#include <iostream>\n",
        "#include <string>\n",
        "using namespace std;\n",
        "int main(){\n",
        "    enum Continents{\n",
        "      Africa, // Default int value 0 ...\n",
        "      America,\n",
        "      Antarctica,\n",
        "      Asia,\n",
        "      Europe,\n",
        "      Oceania //Default Integer Value 5\n",
        "\n",
        "    };\n",
        "    cout << \"Africa: \" << Africa << endl;\n",
        "    cout << \"Oceania: \" << Oceania << endl;\n",
        "\n",
        "    enum Months{\n",
        "        January,\n",
        "        February,\n",
        "        March,\n",
        "        April,\n",
        "        May,\n",
        "        June,\n",
        "        July,\n",
        "        August,\n",
        "        September,\n",
        "        October,\n",
        "        November,\n",
        "        December\n",
        "    };\n",
        "    bool y = (Africa == January);\n",
        "    string x = y == 1 ? \"true\" : \"false\";\n",
        "    cout << \"Africa equals January is \"<< x << endl;\n",
        "    return 0;\n",
        "\n",
        "\n",
        "}"
      ],
      "metadata": {
        "colab": {
          "base_uri": "https://localhost:8080/"
        },
        "id": "p-NXgznIODUz",
        "outputId": "c7b574f1-700c-4a25-d692-52db06479141"
      },
      "execution_count": null,
      "outputs": [
        {
          "output_type": "stream",
          "name": "stdout",
          "text": [
            "Writing enum_constants.cpp\n"
          ]
        }
      ]
    },
    {
      "cell_type": "code",
      "source": [
        "%%bash\n",
        "g++ enum_constants.cpp -o enum_constants\n",
        "./enum_constants"
      ],
      "metadata": {
        "colab": {
          "base_uri": "https://localhost:8080/"
        },
        "id": "F2MfwKoKTh6a",
        "outputId": "7e2d6338-1f0e-4712-894c-e135b1b4a314"
      },
      "execution_count": null,
      "outputs": [
        {
          "output_type": "stream",
          "name": "stdout",
          "text": [
            "Africa: 0\n",
            "Oceania: 5\n",
            "Africa equals January is true\n"
          ]
        },
        {
          "output_type": "stream",
          "name": "stderr",
          "text": [
            "enum_constants.cpp: In function ‘int main()’:\n",
            "enum_constants.cpp:31:22: warning: comparison between ‘enum main()::Continents’ and ‘enum main()::Months’ [-Wenum-compare]\n",
            "   31 |     bool y = (Africa == January);\n",
            "      |               ~~~~~~~^~~~~~~~~~\n"
          ]
        }
      ]
    },
    {
      "cell_type": "markdown",
      "source": [
        "> There are potential issues with enums. For instance, as shown above, two enumarated constants from two different types could be numerically equal.\n",
        "\n",
        "> **Quick fix** Re0index!!!"
      ],
      "metadata": {
        "id": "iatM5ULaT_hv"
      }
    },
    {
      "cell_type": "code",
      "source": [
        "%%file enum_constants_two.cpp\n",
        "#include <iostream>\n",
        "#include <string>\n",
        "using namespace std;\n",
        "int main(){\n",
        "    enum Continents{\n",
        "      Africa, // Default int value 0 ...\n",
        "      America,\n",
        "      Antarctica,\n",
        "      Asia,\n",
        "      Europe,\n",
        "      Oceania //Default Integer Value 5\n",
        "\n",
        "    };\n",
        "    cout << \"Africa: \" << Africa << endl;\n",
        "    cout << \"Oceania: \" << Oceania << endl;\n",
        "\n",
        "    enum Months{\n",
        "        January = 100,\n",
        "        February,\n",
        "        March,\n",
        "        April,\n",
        "        May,\n",
        "        June,\n",
        "        July,\n",
        "        August,\n",
        "        September,\n",
        "        October,\n",
        "        November,\n",
        "        December\n",
        "    };\n",
        "    bool y = (Africa == January);\n",
        "    string x = y == 1 ? \"true\" : \"false\";\n",
        "    cout << \"Africa equals January is \"<< x << endl;\n",
        "    return 0;\n",
        "\n",
        "\n",
        "}"
      ],
      "metadata": {
        "colab": {
          "base_uri": "https://localhost:8080/"
        },
        "id": "hnNAb6d_Toc0",
        "outputId": "53796ac8-0982-44ec-bdb4-3ab39c9aa08a"
      },
      "execution_count": null,
      "outputs": [
        {
          "output_type": "stream",
          "name": "stdout",
          "text": [
            "Writing enum_constants_two.cpp\n"
          ]
        }
      ]
    },
    {
      "cell_type": "code",
      "source": [
        "%%bash\n",
        "g++ enum_constants_two.cpp -o enum_constants_two\n",
        "./enum_constants_two"
      ],
      "metadata": {
        "colab": {
          "base_uri": "https://localhost:8080/"
        },
        "id": "Vq6Hyb57VFC9",
        "outputId": "de31fdba-1c85-4b86-a074-42098c6fd70e"
      },
      "execution_count": null,
      "outputs": [
        {
          "output_type": "stream",
          "name": "stdout",
          "text": [
            "Africa: 0\n",
            "Oceania: 5\n",
            "Africa equals January is false\n"
          ]
        },
        {
          "output_type": "stream",
          "name": "stderr",
          "text": [
            "enum_constants_two.cpp: In function ‘int main()’:\n",
            "enum_constants_two.cpp:31:22: warning: comparison between ‘enum main()::Continents’ and ‘enum main()::Months’ [-Wenum-compare]\n",
            "   31 |     bool y = (Africa == January);\n",
            "      |               ~~~~~~~^~~~~~~~~~\n"
          ]
        }
      ]
    },
    {
      "cell_type": "markdown",
      "source": [
        "### Enum Classes\n",
        "\n",
        "> The enum classes are a more robust way to avoid overlaps. Hence, we can avoid cryptic numerical codes and larger string o`bjects.\n",
        "> However, we have not created a `Bond` or Options_Contract` class, so the code below will not run.\n",
        "\n",
        "\n"
      ],
      "metadata": {
        "id": "yfl9WMXAXffj"
      }
    },
    {
      "cell_type": "code",
      "source": [
        "%%file enum_constants_three.cpp\n",
        "#include <iostream>\n",
        "#include <string>\n",
        "using namespace std;\n",
        "int main(){\n",
        "    enum class Bond {\n",
        "        Government,\n",
        "        Corporate,\n",
        "        Municipal,\n",
        "        Convertible\n",
        "    };\n",
        "    enum class Options_Contract {\n",
        "        European,\n",
        "        American\n",
        "    }\n",
        "    /*cout << \"Government: \" << Bond::Government << endl;\n",
        "    cout << \"Corporate: \" << Bond::Corporate << endl;\n",
        "    cout << \"Municipal: \" << Bond::Municipal << endl;\n",
        "    cout << \"Convertible: \" << Bond::Convertible << endl;\n",
        "    cout << \"European: \" << Options_Contract::European << endl;\n",
        "    cout << \"American: \" << Options_Contract::American << endl;*/\n",
        "    cout << \"Government: \" << static_cast<int>(Bond::Government) << endl;\n",
        "    cout << \"Corporate: \" << static_cast<int>(Bond::Corporate) << endl;\n",
        "    cout << \"Municipal: \" << static_cast<int>(Bond::Municipal) << endl;\n",
        "    cout << \"Convertible: \" << static_cast<int>(Bond::Convertible) << endl;\n",
        "    cout << \"European: \" << static_cast<int>(Options_Contract::European) << endl;\n",
        "    cout << \"American: \" << static_cast<int>(Options_Contract::American) << endl;\n",
        "    return 0;\n",
        "}"
      ],
      "metadata": {
        "colab": {
          "base_uri": "https://localhost:8080/"
        },
        "id": "4KfT53AmX25R",
        "outputId": "60e61a7a-4432-48da-d3fe-b1720711826f"
      },
      "execution_count": null,
      "outputs": [
        {
          "output_type": "stream",
          "name": "stdout",
          "text": [
            "Writing enum_constants_three.cpp\n"
          ]
        }
      ]
    },
    {
      "cell_type": "code",
      "source": [
        "%%bash\n",
        "g++ enum_constants_three.cpp -o enum_constants_three\n",
        "./enum_constants_three"
      ],
      "metadata": {
        "colab": {
          "base_uri": "https://localhost:8080/",
          "height": 632
        },
        "id": "V2rJbdWlYTMT",
        "outputId": "ce1264ab-8ad0-4b62-e163-f4e00fb516cc"
      },
      "execution_count": null,
      "outputs": [
        {
          "output_type": "stream",
          "name": "stderr",
          "text": [
            "enum_constants_three.cpp: In function ‘int main()’:\n",
            "enum_constants_three.cpp:21:10: error: expected initializer before ‘<<’ token\n",
            "   21 |     cout << \"Government: \" << static_cast<int>(Bond::Government) << endl;\n",
            "      |          ^~\n",
            "bash: line 2: ./enum_constants_three: No such file or directory\n"
          ]
        },
        {
          "output_type": "error",
          "ename": "CalledProcessError",
          "evalue": "Command 'b'g++ enum_constants_three.cpp -o enum_constants_three\\n./enum_constants_three\\n'' returned non-zero exit status 127.",
          "traceback": [
            "\u001b[0;31m---------------------------------------------------------------------------\u001b[0m",
            "\u001b[0;31mCalledProcessError\u001b[0m                        Traceback (most recent call last)",
            "\u001b[0;32m<ipython-input-26-cad3791e754f>\u001b[0m in \u001b[0;36m<cell line: 1>\u001b[0;34m()\u001b[0m\n\u001b[0;32m----> 1\u001b[0;31m \u001b[0mget_ipython\u001b[0m\u001b[0;34m(\u001b[0m\u001b[0;34m)\u001b[0m\u001b[0;34m.\u001b[0m\u001b[0mrun_cell_magic\u001b[0m\u001b[0;34m(\u001b[0m\u001b[0;34m'bash'\u001b[0m\u001b[0;34m,\u001b[0m \u001b[0;34m''\u001b[0m\u001b[0;34m,\u001b[0m \u001b[0;34m'g++ enum_constants_three.cpp -o enum_constants_three\\n./enum_constants_three\\n'\u001b[0m\u001b[0;34m)\u001b[0m\u001b[0;34m\u001b[0m\u001b[0;34m\u001b[0m\u001b[0m\n\u001b[0m",
            "\u001b[0;32m/usr/local/lib/python3.10/dist-packages/google/colab/_shell.py\u001b[0m in \u001b[0;36mrun_cell_magic\u001b[0;34m(self, magic_name, line, cell)\u001b[0m\n\u001b[1;32m    332\u001b[0m     \u001b[0;32mif\u001b[0m \u001b[0mline\u001b[0m \u001b[0;32mand\u001b[0m \u001b[0;32mnot\u001b[0m \u001b[0mcell\u001b[0m\u001b[0;34m:\u001b[0m\u001b[0;34m\u001b[0m\u001b[0;34m\u001b[0m\u001b[0m\n\u001b[1;32m    333\u001b[0m       \u001b[0mcell\u001b[0m \u001b[0;34m=\u001b[0m \u001b[0;34m' '\u001b[0m\u001b[0;34m\u001b[0m\u001b[0;34m\u001b[0m\u001b[0m\n\u001b[0;32m--> 334\u001b[0;31m     \u001b[0;32mreturn\u001b[0m \u001b[0msuper\u001b[0m\u001b[0;34m(\u001b[0m\u001b[0;34m)\u001b[0m\u001b[0;34m.\u001b[0m\u001b[0mrun_cell_magic\u001b[0m\u001b[0;34m(\u001b[0m\u001b[0mmagic_name\u001b[0m\u001b[0;34m,\u001b[0m \u001b[0mline\u001b[0m\u001b[0;34m,\u001b[0m \u001b[0mcell\u001b[0m\u001b[0;34m)\u001b[0m\u001b[0;34m\u001b[0m\u001b[0;34m\u001b[0m\u001b[0m\n\u001b[0m\u001b[1;32m    335\u001b[0m \u001b[0;34m\u001b[0m\u001b[0m\n\u001b[1;32m    336\u001b[0m \u001b[0;34m\u001b[0m\u001b[0m\n",
            "\u001b[0;32m/usr/local/lib/python3.10/dist-packages/IPython/core/interactiveshell.py\u001b[0m in \u001b[0;36mrun_cell_magic\u001b[0;34m(self, magic_name, line, cell)\u001b[0m\n\u001b[1;32m   2471\u001b[0m             \u001b[0;32mwith\u001b[0m \u001b[0mself\u001b[0m\u001b[0;34m.\u001b[0m\u001b[0mbuiltin_trap\u001b[0m\u001b[0;34m:\u001b[0m\u001b[0;34m\u001b[0m\u001b[0;34m\u001b[0m\u001b[0m\n\u001b[1;32m   2472\u001b[0m                 \u001b[0margs\u001b[0m \u001b[0;34m=\u001b[0m \u001b[0;34m(\u001b[0m\u001b[0mmagic_arg_s\u001b[0m\u001b[0;34m,\u001b[0m \u001b[0mcell\u001b[0m\u001b[0;34m)\u001b[0m\u001b[0;34m\u001b[0m\u001b[0;34m\u001b[0m\u001b[0m\n\u001b[0;32m-> 2473\u001b[0;31m                 \u001b[0mresult\u001b[0m \u001b[0;34m=\u001b[0m \u001b[0mfn\u001b[0m\u001b[0;34m(\u001b[0m\u001b[0;34m*\u001b[0m\u001b[0margs\u001b[0m\u001b[0;34m,\u001b[0m \u001b[0;34m**\u001b[0m\u001b[0mkwargs\u001b[0m\u001b[0;34m)\u001b[0m\u001b[0;34m\u001b[0m\u001b[0;34m\u001b[0m\u001b[0m\n\u001b[0m\u001b[1;32m   2474\u001b[0m             \u001b[0;32mreturn\u001b[0m \u001b[0mresult\u001b[0m\u001b[0;34m\u001b[0m\u001b[0;34m\u001b[0m\u001b[0m\n\u001b[1;32m   2475\u001b[0m \u001b[0;34m\u001b[0m\u001b[0m\n",
            "\u001b[0;32m/usr/local/lib/python3.10/dist-packages/IPython/core/magics/script.py\u001b[0m in \u001b[0;36mnamed_script_magic\u001b[0;34m(line, cell)\u001b[0m\n\u001b[1;32m    140\u001b[0m             \u001b[0;32melse\u001b[0m\u001b[0;34m:\u001b[0m\u001b[0;34m\u001b[0m\u001b[0;34m\u001b[0m\u001b[0m\n\u001b[1;32m    141\u001b[0m                 \u001b[0mline\u001b[0m \u001b[0;34m=\u001b[0m \u001b[0mscript\u001b[0m\u001b[0;34m\u001b[0m\u001b[0;34m\u001b[0m\u001b[0m\n\u001b[0;32m--> 142\u001b[0;31m             \u001b[0;32mreturn\u001b[0m \u001b[0mself\u001b[0m\u001b[0;34m.\u001b[0m\u001b[0mshebang\u001b[0m\u001b[0;34m(\u001b[0m\u001b[0mline\u001b[0m\u001b[0;34m,\u001b[0m \u001b[0mcell\u001b[0m\u001b[0;34m)\u001b[0m\u001b[0;34m\u001b[0m\u001b[0;34m\u001b[0m\u001b[0m\n\u001b[0m\u001b[1;32m    143\u001b[0m \u001b[0;34m\u001b[0m\u001b[0m\n\u001b[1;32m    144\u001b[0m         \u001b[0;31m# write a basic docstring:\u001b[0m\u001b[0;34m\u001b[0m\u001b[0;34m\u001b[0m\u001b[0m\n",
            "\u001b[0;32m<decorator-gen-103>\u001b[0m in \u001b[0;36mshebang\u001b[0;34m(self, line, cell)\u001b[0m\n",
            "\u001b[0;32m/usr/local/lib/python3.10/dist-packages/IPython/core/magic.py\u001b[0m in \u001b[0;36m<lambda>\u001b[0;34m(f, *a, **k)\u001b[0m\n\u001b[1;32m    185\u001b[0m     \u001b[0;31m# but it's overkill for just that one bit of state.\u001b[0m\u001b[0;34m\u001b[0m\u001b[0;34m\u001b[0m\u001b[0m\n\u001b[1;32m    186\u001b[0m     \u001b[0;32mdef\u001b[0m \u001b[0mmagic_deco\u001b[0m\u001b[0;34m(\u001b[0m\u001b[0marg\u001b[0m\u001b[0;34m)\u001b[0m\u001b[0;34m:\u001b[0m\u001b[0;34m\u001b[0m\u001b[0;34m\u001b[0m\u001b[0m\n\u001b[0;32m--> 187\u001b[0;31m         \u001b[0mcall\u001b[0m \u001b[0;34m=\u001b[0m \u001b[0;32mlambda\u001b[0m \u001b[0mf\u001b[0m\u001b[0;34m,\u001b[0m \u001b[0;34m*\u001b[0m\u001b[0ma\u001b[0m\u001b[0;34m,\u001b[0m \u001b[0;34m**\u001b[0m\u001b[0mk\u001b[0m\u001b[0;34m:\u001b[0m \u001b[0mf\u001b[0m\u001b[0;34m(\u001b[0m\u001b[0;34m*\u001b[0m\u001b[0ma\u001b[0m\u001b[0;34m,\u001b[0m \u001b[0;34m**\u001b[0m\u001b[0mk\u001b[0m\u001b[0;34m)\u001b[0m\u001b[0;34m\u001b[0m\u001b[0;34m\u001b[0m\u001b[0m\n\u001b[0m\u001b[1;32m    188\u001b[0m \u001b[0;34m\u001b[0m\u001b[0m\n\u001b[1;32m    189\u001b[0m         \u001b[0;32mif\u001b[0m \u001b[0mcallable\u001b[0m\u001b[0;34m(\u001b[0m\u001b[0marg\u001b[0m\u001b[0;34m)\u001b[0m\u001b[0;34m:\u001b[0m\u001b[0;34m\u001b[0m\u001b[0;34m\u001b[0m\u001b[0m\n",
            "\u001b[0;32m/usr/local/lib/python3.10/dist-packages/IPython/core/magics/script.py\u001b[0m in \u001b[0;36mshebang\u001b[0;34m(self, line, cell)\u001b[0m\n\u001b[1;32m    243\u001b[0m             \u001b[0msys\u001b[0m\u001b[0;34m.\u001b[0m\u001b[0mstderr\u001b[0m\u001b[0;34m.\u001b[0m\u001b[0mflush\u001b[0m\u001b[0;34m(\u001b[0m\u001b[0;34m)\u001b[0m\u001b[0;34m\u001b[0m\u001b[0;34m\u001b[0m\u001b[0m\n\u001b[1;32m    244\u001b[0m         \u001b[0;32mif\u001b[0m \u001b[0margs\u001b[0m\u001b[0;34m.\u001b[0m\u001b[0mraise_error\u001b[0m \u001b[0;32mand\u001b[0m \u001b[0mp\u001b[0m\u001b[0;34m.\u001b[0m\u001b[0mreturncode\u001b[0m\u001b[0;34m!=\u001b[0m\u001b[0;36m0\u001b[0m\u001b[0;34m:\u001b[0m\u001b[0;34m\u001b[0m\u001b[0;34m\u001b[0m\u001b[0m\n\u001b[0;32m--> 245\u001b[0;31m             \u001b[0;32mraise\u001b[0m \u001b[0mCalledProcessError\u001b[0m\u001b[0;34m(\u001b[0m\u001b[0mp\u001b[0m\u001b[0;34m.\u001b[0m\u001b[0mreturncode\u001b[0m\u001b[0;34m,\u001b[0m \u001b[0mcell\u001b[0m\u001b[0;34m,\u001b[0m \u001b[0moutput\u001b[0m\u001b[0;34m=\u001b[0m\u001b[0mout\u001b[0m\u001b[0;34m,\u001b[0m \u001b[0mstderr\u001b[0m\u001b[0;34m=\u001b[0m\u001b[0merr\u001b[0m\u001b[0;34m)\u001b[0m\u001b[0;34m\u001b[0m\u001b[0;34m\u001b[0m\u001b[0m\n\u001b[0m\u001b[1;32m    246\u001b[0m \u001b[0;34m\u001b[0m\u001b[0m\n\u001b[1;32m    247\u001b[0m     \u001b[0;32mdef\u001b[0m \u001b[0m_run_script\u001b[0m\u001b[0;34m(\u001b[0m\u001b[0mself\u001b[0m\u001b[0;34m,\u001b[0m \u001b[0mp\u001b[0m\u001b[0;34m,\u001b[0m \u001b[0mcell\u001b[0m\u001b[0;34m,\u001b[0m \u001b[0mto_close\u001b[0m\u001b[0;34m)\u001b[0m\u001b[0;34m:\u001b[0m\u001b[0;34m\u001b[0m\u001b[0;34m\u001b[0m\u001b[0m\n",
            "\u001b[0;31mCalledProcessError\u001b[0m: Command 'b'g++ enum_constants_three.cpp -o enum_constants_three\\n./enum_constants_three\\n'' returned non-zero exit status 127."
          ]
        }
      ]
    },
    {
      "cell_type": "markdown",
      "source": [
        "## Aliases"
      ],
      "metadata": {
        "id": "TvVqvzCxp6si"
      }
    },
    {
      "cell_type": "markdown",
      "source": [
        "> Aliasing is mainly used for convinience. This convinience can be exemplified by type aliasing.\n",
        "\n",
        "> Reference aliases help to avoid copies of objects being created when they are passed into functions, often resulting in significant speedup at runtime."
      ],
      "metadata": {
        "id": "2WO0W1iQqEFk"
      }
    },
    {
      "cell_type": "code",
      "source": [
        "%%file type_alias.cpp\n",
        "#include <iostream>\n",
        "#include <vector>\n",
        "using namespace std;\n",
        "int main(){\n",
        "    using int_vector = vector<int>; //here we create a type alias for vector<int>\n",
        "    /*As shown below, the  type alias can be used to initialize 1+ vectors of the aliased type*/\n",
        "    int_vector v;\n",
        "    for(int i =1; i < 5; i++){\n",
        "        v.push_back(i);\n",
        "    }\n",
        "    for(int i=0; i < v.size(); i++){\n",
        "        cout << v[i] << \", \";\n",
        "        //cout << endl;\n",
        "\n",
        "    }\n",
        "    cout << endl;\n",
        "    int_vector v2(3);\n",
        "    v2[0] = 1;\n",
        "    v2[1] = 2;\n",
        "    v2[2] = 3;\n",
        "    for(int i=0; i < v2.size(); i++){\n",
        "        cout << v2[i] << \", \";\n",
        "    }\n",
        "    return 0;\n",
        "}"
      ],
      "metadata": {
        "id": "J9rUwVzvaNIh",
        "colab": {
          "base_uri": "https://localhost:8080/"
        },
        "outputId": "df80ce1c-182e-4a59-b976-64d34edabf4f"
      },
      "execution_count": null,
      "outputs": [
        {
          "output_type": "stream",
          "name": "stdout",
          "text": [
            "Overwriting type_alias.cpp\n"
          ]
        }
      ]
    },
    {
      "cell_type": "code",
      "source": [
        "%%bash\n",
        "g++ type_alias.cpp -o type_alias\n",
        "./type_alias"
      ],
      "metadata": {
        "colab": {
          "base_uri": "https://localhost:8080/"
        },
        "id": "-gISr_LNrOSY",
        "outputId": "5f7006a0-89b5-40c3-e642-15d167d29e30"
      },
      "execution_count": null,
      "outputs": [
        {
          "output_type": "stream",
          "name": "stdout",
          "text": [
            "1, 2, 3, 4, \n",
            "1, 2, 3, "
          ]
        }
      ]
    },
    {
      "cell_type": "markdown",
      "source": [
        "> What you have to notice in the example below is that a refernce is created by placing an ampersand (&) between the type name and the reference name before assigning it to the original variable."
      ],
      "metadata": {
        "id": "9xhdWTe3svU-"
      }
    },
    {
      "cell_type": "code",
      "source": [
        "%%file reference_alias.cpp\n",
        "#include <iostream>\n",
        "using namespace std;\n",
        "int main(){\n",
        "  int ogNum = 2024;\n",
        "  int& refNum = ogNum;\n",
        "  //both original and ref would return 2024 if accessed in a function.\n",
        "  cout << \"i) \"<< ogNum << \" == \" << refNum << endl;\n",
        "  ogNum = 2025;\n",
        "  cout << \"ii) \"<< ogNum << \" == \" << refNum << endl;\n",
        "  refNum = 2026;\n",
        "  cout << \"iii) \"<< ogNum << \" == \" << refNum << endl;\n",
        "  return 0;\n",
        "}\n"
      ],
      "metadata": {
        "colab": {
          "base_uri": "https://localhost:8080/"
        },
        "id": "FMJQz4zgsKzA",
        "outputId": "14f0ba35-c184-400c-a968-0c65bb94db39"
      },
      "execution_count": null,
      "outputs": [
        {
          "output_type": "stream",
          "name": "stdout",
          "text": [
            "Overwriting reference_alias.cpp\n"
          ]
        }
      ]
    },
    {
      "cell_type": "code",
      "source": [
        "%%bash\n",
        "g++ reference_alias.cpp -o reference_alias\n",
        "./reference_alias"
      ],
      "metadata": {
        "colab": {
          "base_uri": "https://localhost:8080/"
        },
        "id": "3CMvtQ5Wt5hk",
        "outputId": "849323c0-d982-4d56-a5f9-1e73f3559cf9"
      },
      "execution_count": null,
      "outputs": [
        {
          "output_type": "stream",
          "name": "stdout",
          "text": [
            "i) 2024 == 2024\n",
            "ii) 2025 == 2025\n",
            "iii) 2026 == 2026\n"
          ]
        }
      ]
    },
    {
      "cell_type": "code",
      "source": [
        "%%file reference_alias_error.cpp\n",
        "#include <iostream>\n",
        "using namespace std;\n",
        "int main(){\n",
        "  int& refNum;\n",
        "  /* A reference must be assigned at the same time it is declared.\n",
        "  The line `int& refNum;` is nonsense b/c there is nothing to refer to.\n",
        "  Thus, the code will not compile\n",
        "  */\n",
        "\n",
        "  int ogNum = 2024;\n",
        "  int& refNum = ogNum;\n",
        "  //both original and ref would return 2024 if accessed in a function.\n",
        "  cout << \"i) \"<< ogNum << \" == \" << refNum << endl;\n",
        "  ogNum = 2025;\n",
        "  cout << \"ii) \"<< ogNum << \" == \" << refNum << endl;\n",
        "  refNum = 2026;\n",
        "  cout << \"iii) \"<< ogNum << \" == \" << refNum << endl;\n",
        "  return 0;\n",
        "}\n"
      ],
      "metadata": {
        "colab": {
          "base_uri": "https://localhost:8080/"
        },
        "id": "7y5fH7WpuB5K",
        "outputId": "cf04c90a-1325-4abe-b11d-c1720f1217c7"
      },
      "execution_count": null,
      "outputs": [
        {
          "output_type": "stream",
          "name": "stdout",
          "text": [
            "Writing reference_alias_error.cpp\n"
          ]
        }
      ]
    },
    {
      "cell_type": "code",
      "source": [
        "%%bash\n",
        "g++ reference_alias_error.cpp -o reference_alias_error\n",
        "./reference_alias_error"
      ],
      "metadata": {
        "colab": {
          "base_uri": "https://localhost:8080/",
          "height": 764
        },
        "id": "E-_RT9rivRgQ",
        "outputId": "cc48af9a-652e-4e57-d045-f0c2399f9964"
      },
      "execution_count": null,
      "outputs": [
        {
          "output_type": "stream",
          "name": "stderr",
          "text": [
            "reference_alias_error.cpp: In function ‘int main()’:\n",
            "reference_alias_error.cpp:4:8: error: ‘refNum’ declared as reference but not initialized\n",
            "    4 |   int& refNum;\n",
            "      |        ^~~~~~\n",
            "reference_alias_error.cpp:11:8: error: redeclaration of ‘int& refNum’\n",
            "   11 |   int& refNum = ogNum;\n",
            "      |        ^~~~~~\n",
            "reference_alias_error.cpp:4:8: note: ‘int& refNum’ previously declared here\n",
            "    4 |   int& refNum;\n",
            "      |        ^~~~~~\n",
            "bash: line 2: ./reference_alias_error: No such file or directory\n"
          ]
        },
        {
          "output_type": "error",
          "ename": "CalledProcessError",
          "evalue": "Command 'b'g++ reference_alias_error.cpp -o reference_alias_error\\n./reference_alias_error\\n'' returned non-zero exit status 127.",
          "traceback": [
            "\u001b[0;31m---------------------------------------------------------------------------\u001b[0m",
            "\u001b[0;31mCalledProcessError\u001b[0m                        Traceback (most recent call last)",
            "\u001b[0;32m<ipython-input-43-fedafd2d7681>\u001b[0m in \u001b[0;36m<cell line: 1>\u001b[0;34m()\u001b[0m\n\u001b[0;32m----> 1\u001b[0;31m \u001b[0mget_ipython\u001b[0m\u001b[0;34m(\u001b[0m\u001b[0;34m)\u001b[0m\u001b[0;34m.\u001b[0m\u001b[0mrun_cell_magic\u001b[0m\u001b[0;34m(\u001b[0m\u001b[0;34m'bash'\u001b[0m\u001b[0;34m,\u001b[0m \u001b[0;34m''\u001b[0m\u001b[0;34m,\u001b[0m \u001b[0;34m'g++ reference_alias_error.cpp -o reference_alias_error\\n./reference_alias_error\\n'\u001b[0m\u001b[0;34m)\u001b[0m\u001b[0;34m\u001b[0m\u001b[0;34m\u001b[0m\u001b[0m\n\u001b[0m",
            "\u001b[0;32m/usr/local/lib/python3.10/dist-packages/google/colab/_shell.py\u001b[0m in \u001b[0;36mrun_cell_magic\u001b[0;34m(self, magic_name, line, cell)\u001b[0m\n\u001b[1;32m    332\u001b[0m     \u001b[0;32mif\u001b[0m \u001b[0mline\u001b[0m \u001b[0;32mand\u001b[0m \u001b[0;32mnot\u001b[0m \u001b[0mcell\u001b[0m\u001b[0;34m:\u001b[0m\u001b[0;34m\u001b[0m\u001b[0;34m\u001b[0m\u001b[0m\n\u001b[1;32m    333\u001b[0m       \u001b[0mcell\u001b[0m \u001b[0;34m=\u001b[0m \u001b[0;34m' '\u001b[0m\u001b[0;34m\u001b[0m\u001b[0;34m\u001b[0m\u001b[0m\n\u001b[0;32m--> 334\u001b[0;31m     \u001b[0;32mreturn\u001b[0m \u001b[0msuper\u001b[0m\u001b[0;34m(\u001b[0m\u001b[0;34m)\u001b[0m\u001b[0;34m.\u001b[0m\u001b[0mrun_cell_magic\u001b[0m\u001b[0;34m(\u001b[0m\u001b[0mmagic_name\u001b[0m\u001b[0;34m,\u001b[0m \u001b[0mline\u001b[0m\u001b[0;34m,\u001b[0m \u001b[0mcell\u001b[0m\u001b[0;34m)\u001b[0m\u001b[0;34m\u001b[0m\u001b[0;34m\u001b[0m\u001b[0m\n\u001b[0m\u001b[1;32m    335\u001b[0m \u001b[0;34m\u001b[0m\u001b[0m\n\u001b[1;32m    336\u001b[0m \u001b[0;34m\u001b[0m\u001b[0m\n",
            "\u001b[0;32m/usr/local/lib/python3.10/dist-packages/IPython/core/interactiveshell.py\u001b[0m in \u001b[0;36mrun_cell_magic\u001b[0;34m(self, magic_name, line, cell)\u001b[0m\n\u001b[1;32m   2471\u001b[0m             \u001b[0;32mwith\u001b[0m \u001b[0mself\u001b[0m\u001b[0;34m.\u001b[0m\u001b[0mbuiltin_trap\u001b[0m\u001b[0;34m:\u001b[0m\u001b[0;34m\u001b[0m\u001b[0;34m\u001b[0m\u001b[0m\n\u001b[1;32m   2472\u001b[0m                 \u001b[0margs\u001b[0m \u001b[0;34m=\u001b[0m \u001b[0;34m(\u001b[0m\u001b[0mmagic_arg_s\u001b[0m\u001b[0;34m,\u001b[0m \u001b[0mcell\u001b[0m\u001b[0;34m)\u001b[0m\u001b[0;34m\u001b[0m\u001b[0;34m\u001b[0m\u001b[0m\n\u001b[0;32m-> 2473\u001b[0;31m                 \u001b[0mresult\u001b[0m \u001b[0;34m=\u001b[0m \u001b[0mfn\u001b[0m\u001b[0;34m(\u001b[0m\u001b[0;34m*\u001b[0m\u001b[0margs\u001b[0m\u001b[0;34m,\u001b[0m \u001b[0;34m**\u001b[0m\u001b[0mkwargs\u001b[0m\u001b[0;34m)\u001b[0m\u001b[0;34m\u001b[0m\u001b[0;34m\u001b[0m\u001b[0m\n\u001b[0m\u001b[1;32m   2474\u001b[0m             \u001b[0;32mreturn\u001b[0m \u001b[0mresult\u001b[0m\u001b[0;34m\u001b[0m\u001b[0;34m\u001b[0m\u001b[0m\n\u001b[1;32m   2475\u001b[0m \u001b[0;34m\u001b[0m\u001b[0m\n",
            "\u001b[0;32m/usr/local/lib/python3.10/dist-packages/IPython/core/magics/script.py\u001b[0m in \u001b[0;36mnamed_script_magic\u001b[0;34m(line, cell)\u001b[0m\n\u001b[1;32m    140\u001b[0m             \u001b[0;32melse\u001b[0m\u001b[0;34m:\u001b[0m\u001b[0;34m\u001b[0m\u001b[0;34m\u001b[0m\u001b[0m\n\u001b[1;32m    141\u001b[0m                 \u001b[0mline\u001b[0m \u001b[0;34m=\u001b[0m \u001b[0mscript\u001b[0m\u001b[0;34m\u001b[0m\u001b[0;34m\u001b[0m\u001b[0m\n\u001b[0;32m--> 142\u001b[0;31m             \u001b[0;32mreturn\u001b[0m \u001b[0mself\u001b[0m\u001b[0;34m.\u001b[0m\u001b[0mshebang\u001b[0m\u001b[0;34m(\u001b[0m\u001b[0mline\u001b[0m\u001b[0;34m,\u001b[0m \u001b[0mcell\u001b[0m\u001b[0;34m)\u001b[0m\u001b[0;34m\u001b[0m\u001b[0;34m\u001b[0m\u001b[0m\n\u001b[0m\u001b[1;32m    143\u001b[0m \u001b[0;34m\u001b[0m\u001b[0m\n\u001b[1;32m    144\u001b[0m         \u001b[0;31m# write a basic docstring:\u001b[0m\u001b[0;34m\u001b[0m\u001b[0;34m\u001b[0m\u001b[0m\n",
            "\u001b[0;32m<decorator-gen-103>\u001b[0m in \u001b[0;36mshebang\u001b[0;34m(self, line, cell)\u001b[0m\n",
            "\u001b[0;32m/usr/local/lib/python3.10/dist-packages/IPython/core/magic.py\u001b[0m in \u001b[0;36m<lambda>\u001b[0;34m(f, *a, **k)\u001b[0m\n\u001b[1;32m    185\u001b[0m     \u001b[0;31m# but it's overkill for just that one bit of state.\u001b[0m\u001b[0;34m\u001b[0m\u001b[0;34m\u001b[0m\u001b[0m\n\u001b[1;32m    186\u001b[0m     \u001b[0;32mdef\u001b[0m \u001b[0mmagic_deco\u001b[0m\u001b[0;34m(\u001b[0m\u001b[0marg\u001b[0m\u001b[0;34m)\u001b[0m\u001b[0;34m:\u001b[0m\u001b[0;34m\u001b[0m\u001b[0;34m\u001b[0m\u001b[0m\n\u001b[0;32m--> 187\u001b[0;31m         \u001b[0mcall\u001b[0m \u001b[0;34m=\u001b[0m \u001b[0;32mlambda\u001b[0m \u001b[0mf\u001b[0m\u001b[0;34m,\u001b[0m \u001b[0;34m*\u001b[0m\u001b[0ma\u001b[0m\u001b[0;34m,\u001b[0m \u001b[0;34m**\u001b[0m\u001b[0mk\u001b[0m\u001b[0;34m:\u001b[0m \u001b[0mf\u001b[0m\u001b[0;34m(\u001b[0m\u001b[0;34m*\u001b[0m\u001b[0ma\u001b[0m\u001b[0;34m,\u001b[0m \u001b[0;34m**\u001b[0m\u001b[0mk\u001b[0m\u001b[0;34m)\u001b[0m\u001b[0;34m\u001b[0m\u001b[0;34m\u001b[0m\u001b[0m\n\u001b[0m\u001b[1;32m    188\u001b[0m \u001b[0;34m\u001b[0m\u001b[0m\n\u001b[1;32m    189\u001b[0m         \u001b[0;32mif\u001b[0m \u001b[0mcallable\u001b[0m\u001b[0;34m(\u001b[0m\u001b[0marg\u001b[0m\u001b[0;34m)\u001b[0m\u001b[0;34m:\u001b[0m\u001b[0;34m\u001b[0m\u001b[0;34m\u001b[0m\u001b[0m\n",
            "\u001b[0;32m/usr/local/lib/python3.10/dist-packages/IPython/core/magics/script.py\u001b[0m in \u001b[0;36mshebang\u001b[0;34m(self, line, cell)\u001b[0m\n\u001b[1;32m    243\u001b[0m             \u001b[0msys\u001b[0m\u001b[0;34m.\u001b[0m\u001b[0mstderr\u001b[0m\u001b[0;34m.\u001b[0m\u001b[0mflush\u001b[0m\u001b[0;34m(\u001b[0m\u001b[0;34m)\u001b[0m\u001b[0;34m\u001b[0m\u001b[0;34m\u001b[0m\u001b[0m\n\u001b[1;32m    244\u001b[0m         \u001b[0;32mif\u001b[0m \u001b[0margs\u001b[0m\u001b[0;34m.\u001b[0m\u001b[0mraise_error\u001b[0m \u001b[0;32mand\u001b[0m \u001b[0mp\u001b[0m\u001b[0;34m.\u001b[0m\u001b[0mreturncode\u001b[0m\u001b[0;34m!=\u001b[0m\u001b[0;36m0\u001b[0m\u001b[0;34m:\u001b[0m\u001b[0;34m\u001b[0m\u001b[0;34m\u001b[0m\u001b[0m\n\u001b[0;32m--> 245\u001b[0;31m             \u001b[0;32mraise\u001b[0m \u001b[0mCalledProcessError\u001b[0m\u001b[0;34m(\u001b[0m\u001b[0mp\u001b[0m\u001b[0;34m.\u001b[0m\u001b[0mreturncode\u001b[0m\u001b[0;34m,\u001b[0m \u001b[0mcell\u001b[0m\u001b[0;34m,\u001b[0m \u001b[0moutput\u001b[0m\u001b[0;34m=\u001b[0m\u001b[0mout\u001b[0m\u001b[0;34m,\u001b[0m \u001b[0mstderr\u001b[0m\u001b[0;34m=\u001b[0m\u001b[0merr\u001b[0m\u001b[0;34m)\u001b[0m\u001b[0;34m\u001b[0m\u001b[0;34m\u001b[0m\u001b[0m\n\u001b[0m\u001b[1;32m    246\u001b[0m \u001b[0;34m\u001b[0m\u001b[0m\n\u001b[1;32m    247\u001b[0m     \u001b[0;32mdef\u001b[0m \u001b[0m_run_script\u001b[0m\u001b[0;34m(\u001b[0m\u001b[0mself\u001b[0m\u001b[0;34m,\u001b[0m \u001b[0mp\u001b[0m\u001b[0;34m,\u001b[0m \u001b[0mcell\u001b[0m\u001b[0;34m,\u001b[0m \u001b[0mto_close\u001b[0m\u001b[0;34m)\u001b[0m\u001b[0;34m:\u001b[0m\u001b[0;34m\u001b[0m\u001b[0;34m\u001b[0m\u001b[0m\n",
            "\u001b[0;31mCalledProcessError\u001b[0m: Command 'b'g++ reference_alias_error.cpp -o reference_alias_error\\n./reference_alias_error\\n'' returned non-zero exit status 127."
          ]
        }
      ]
    },
    {
      "cell_type": "markdown",
      "source": [
        "> To reiterate, a reference must be assigned at the same time it is declared. The line `int& refNum;` is nonsense b/c there is nothing to refer to. Thus, the code will not compile b/c `refnum` is declared as a reference but it is not initialized."
      ],
      "metadata": {
        "id": "jTH0SXmPvhfZ"
      }
    },
    {
      "cell_type": "markdown",
      "source": [
        "## Pointers\n",
        "- Pointers can seem quite simple but the questions regarding pointers can be made more complex overtime. There will be a link that corresponds to the worksheet that follows this review sheet."
      ],
      "metadata": {
        "id": "lBHtV5Zr2KXw"
      }
    },
    {
      "cell_type": "code",
      "source": [
        "%%file pointers_example.cpp\n",
        "#include <iostream>\n",
        "using namespace std;\n",
        "int main(){\n",
        "    int x = 42;\n",
        "    int* xp = &x; // now we pint to the meory address holding x\n",
        "    cout << \"x: \" << x << endl;\n",
        "    cout << \"xp (the meory address of x in hex): \" << xp << endl;\n",
        "    cout << \"*xp: \" << *xp << endl;\n",
        "\n",
        "}"
      ],
      "metadata": {
        "colab": {
          "base_uri": "https://localhost:8080/"
        },
        "id": "O3XCVaciv536",
        "outputId": "9f4895c2-07eb-4b33-d26c-882fe2fc311b"
      },
      "execution_count": null,
      "outputs": [
        {
          "output_type": "stream",
          "name": "stdout",
          "text": [
            "Overwriting pointers_example.cpp\n"
          ]
        }
      ]
    },
    {
      "cell_type": "code",
      "source": [
        "%%bash\n",
        "g++ pointers_example.cpp -o pointers_example\n",
        "./pointers_example"
      ],
      "metadata": {
        "colab": {
          "base_uri": "https://localhost:8080/"
        },
        "id": "hwsKcPtP5T4o",
        "outputId": "f69f82fb-2e3b-4b0a-b673-4dccd2b4abf5"
      },
      "execution_count": null,
      "outputs": [
        {
          "output_type": "stream",
          "name": "stdout",
          "text": [
            "x: 42\n",
            "xp: 0x7fff08ab1ccc\n",
            "*xp: 42\n"
          ]
        }
      ]
    },
    {
      "cell_type": "markdown",
      "source": [
        "## Function Overloading\n",
        "> Function overloading is quite simple.\n",
        "\n",
        "> The example of the mult function works quite well because we can overload to include more variables in the product.\n",
        "\n",
        "> As shown below, overloaded functions can be distinguised by their number of variables."
      ],
      "metadata": {
        "id": "UMEPNJ4g5pQn"
      }
    },
    {
      "cell_type": "code",
      "source": [
        "%%file overloading_mult.cpp\n",
        "#include <vector>\n",
        "#include <iostream>\n",
        "using namespace std;\n",
        "double mult(double x, double y){\n",
        "    return x*y;\n",
        "}\n",
        "double mult(double x, double y, double z){\n",
        "    return x*y*z;\n",
        "}\n",
        "//Now suppose we want to perform element-wise multiplication for vectors of the same type\n",
        "\n",
        "using vDub = vector<double>;\n",
        "vDub mult(vDub v1, vDub v2){\n",
        "    int n = v1.size();\n",
        "    int m = v2.size();\n",
        "    vDub v_3(n);\n",
        "    if(n == m){\n",
        "        for(int i =0; i < n; i++){\n",
        "          v_3[i] = v1[i]*v2[i];\n",
        "        }\n",
        "\n",
        "    }\n",
        "\n",
        "    return v_3;\n",
        "}\n",
        "\n",
        "int main(){\n",
        "    cout << \"\" << mult(2.0, 3.0) << endl;\n",
        "    cout << \"\" << mult(2.0, 3.0, 4.0) << endl;\n",
        "    vDub v1{1.0, 2.0, 3.0};\n",
        "    vDub v2{4.0, 5.0, 6.0};\n",
        "    vDub v3 = mult(v1, v2);\n",
        "    for(int i =0; i < v3.size(); i++){\n",
        "        cout << v3[i] << \", \";\n",
        "    }\n",
        "    return 0;\n",
        "}\n",
        "\n"
      ],
      "metadata": {
        "colab": {
          "base_uri": "https://localhost:8080/"
        },
        "id": "ZRZlhIfy6C6-",
        "outputId": "0b0b36e8-4d15-4497-9881-566dbefe7cf4"
      },
      "execution_count": null,
      "outputs": [
        {
          "output_type": "stream",
          "name": "stdout",
          "text": [
            "Overwriting overloading_mult.cpp\n"
          ]
        }
      ]
    },
    {
      "cell_type": "code",
      "source": [
        "%%bash\n",
        "g++ overloading_mult.cpp -o overloading_mult\n",
        "./overloading_mult"
      ],
      "metadata": {
        "colab": {
          "base_uri": "https://localhost:8080/"
        },
        "id": "uS2oAN357wxc",
        "outputId": "a0bee8f5-4cc1-49a0-c191-774059176abe"
      },
      "execution_count": null,
      "outputs": [
        {
          "output_type": "stream",
          "name": "stdout",
          "text": [
            "6\n",
            "24\n",
            "4, 10, 18, "
          ]
        }
      ]
    },
    {
      "cell_type": "markdown",
      "source": [
        "## Operator Overloading\n",
        "\n",
        "> C++ provides standard mathematical operators for integer and floating type numerical values. The standard Library also provides the `+` operator for `std::string` type concatenation. However, there are no operators provided for `std::vector`. Hence, if we want to compute a dot product or element-wise arithmetic operations for `std::vector` we have to make them as shown below.\n",
        "\n",
        "> **Note:** The only overloading portion is making it possible to use the arithmetic operators  `+`, and `-` for vectors. Later, we will make all arithmetic operators once we deal more with the dimensionality topic.\n",
        "\n",
        "> **Note**: Here we use the pre-processor directive `#pragma once`. `#pragma once` replaces the old directive below:\n",
        "\n",
        "`#ifndef HEADER_FILE_NAME_H`\n",
        "\n",
        "`#define HEADER_FILE_NAME_H`\n",
        "\n",
        "`// Contents of the header file`\n",
        "\n",
        "`#endif // HEADER_FILE_NAME_H`"
      ],
      "metadata": {
        "id": "H8efJP8F9eu5"
      }
    },
    {
      "cell_type": "code",
      "source": [
        "%%file vector_ops.h\n",
        "//#ifndef VECTOR_OPS_H\n",
        "//#define VECTOR_OPS_H\n",
        "#pragma once\n",
        "#include <vector>\n",
        "#include <string>\n",
        "// Here is the header file we use for our actual loading\n",
        "std::string v_to_string(std::vector<double> v);\n",
        "std::vector<double> operator * (std::vector<double> v1, std::vector<double> v2);\n",
        "std::vector<double> operator + (std::vector<double> v1, std::vector<double> v2);\n",
        "std::vector<double> operator - (std::vector<double> v1, std::vector<double> v2);\n",
        "std::vector<double> operator / (std::vector<double> v1, std::vector<double> v2);\n",
        "\n",
        "\n",
        "//#endif //VECTOR_OPS_H"
      ],
      "metadata": {
        "colab": {
          "base_uri": "https://localhost:8080/"
        },
        "id": "dpG-2mVl73ZP",
        "outputId": "93c9bfe7-b148-4c66-cf94-4d20beca4018"
      },
      "execution_count": null,
      "outputs": [
        {
          "output_type": "stream",
          "name": "stdout",
          "text": [
            "Overwriting vector_ops.h\n"
          ]
        }
      ]
    },
    {
      "cell_type": "code",
      "source": [
        "%%file vector_ops.cpp\n",
        "#include \"./vector_ops.h\"\n",
        "#include <vector>\n",
        "#include <iostream>\n",
        "#include <string>\n",
        "//using namespace std;\n",
        "std::string v_to_string(std::vector<double> v){\n",
        "    int n = v.size();\n",
        "    std::string s = \"[\";\n",
        "    for(int i =0; i < n; i++){\n",
        "        s+= std::to_string(v[i]);\n",
        "        if(i < n-1){\n",
        "            s += \", \";\n",
        "        }\n",
        "    }\n",
        "    s += \"]\";\n",
        "    return s;\n",
        "}\n",
        "std::vector<double> operator  * (std::vector<double> v1, std::vector<double> v2){\n",
        "    int n = v1.size();\n",
        "    int m = v2.size();\n",
        "    std::vector<double> v3(n);\n",
        "    if(n == m){\n",
        "        for(int i =0; i < n; i++){\n",
        "          v3[i] = v1[i]*v2[i];\n",
        "        }\n",
        "\n",
        "    }\n",
        "    return v3;\n",
        "}\n",
        "std::vector<double> operator + (std::vector<double> v1, std::vector<double> v2){\n",
        "    int n = v1.size();\n",
        "    int m = v2.size();\n",
        "    std::vector<double> v3(n);\n",
        "    if(n == m){\n",
        "        for(int i =0; i < n; i++){\n",
        "          v3[i] = v1[i]+v2[i];\n",
        "        }\n",
        "\n",
        "    }\n",
        "    return v3;\n",
        "}\n",
        "\n",
        "std::vector<double> operator - (std::vector<double> v1, std::vector<double> v2){\n",
        "    int n = v1.size();\n",
        "    int m = v2.size();\n",
        "    std::vector<double> v3(n);\n",
        "    if(n == m){\n",
        "        for(int i =0; i < n; i++){\n",
        "          v3[i] = v1[i]-v2[i];\n",
        "        }\n",
        "\n",
        "    }\n",
        "    return v3;\n",
        "}\n",
        "\n",
        "std::vector<double> operator / (std::vector<double> v1, std::vector<double> v2){\n",
        "    int n = v1.size();\n",
        "    int m = v2.size();\n",
        "    std::vector<double> v3(n);\n",
        "    if(n == m){\n",
        "        for(int i =0; i < n; i++){\n",
        "          v3[i] = v1[i]/v2[i];\n",
        "        }\n",
        "\n",
        "    }\n",
        "    return v3;\n",
        "}\n",
        "\n",
        "//never forget the word operator if you overload it in a functions as shown above\n",
        "\n",
        "\n",
        "\n"
      ],
      "metadata": {
        "colab": {
          "base_uri": "https://localhost:8080/"
        },
        "id": "Fxi0n5fKJMg7",
        "outputId": "c0a64202-4922-4cd1-c4bc-8ce9f0087bed"
      },
      "execution_count": null,
      "outputs": [
        {
          "output_type": "stream",
          "name": "stdout",
          "text": [
            "Overwriting vector_ops.cpp\n"
          ]
        }
      ]
    },
    {
      "cell_type": "code",
      "source": [
        "%%file main.cpp\n",
        "#include \"./vector_ops.h\"\n",
        "#include <vector>\n",
        "#include <iostream>\n",
        "int main(){\n",
        "    std::vector<double> v1{3.0, 4, 5};\n",
        "    std::vector<double> v2{12, 20, 10};\n",
        "    std::cout << \"v1: \" << v_to_string(v1) << std::endl;\n",
        "    std::cout << \"v2: \" << v_to_string(v2) << std::endl;\n",
        "    std::cout << \"v1 * v2: \" << v_to_string(v1 * v2) << std::endl;\n",
        "    std::cout << \"v1/v2: \" << v_to_string(v1 / v2) << std::endl;\n",
        "    std::cout << \"v1 - v2: \" << v_to_string(v1 - v2) << std::endl;\n",
        "    std::cout << \"v1 + v2: \" << v_to_string(v1 + v2) << std::endl;\n",
        "\n",
        "    return 0;\n",
        "}\n"
      ],
      "metadata": {
        "colab": {
          "base_uri": "https://localhost:8080/"
        },
        "id": "SbQyPtKmKPN3",
        "outputId": "6e6493df-540e-4ffa-beb1-e959709890c0"
      },
      "execution_count": null,
      "outputs": [
        {
          "output_type": "stream",
          "name": "stdout",
          "text": [
            "Overwriting main.cpp\n"
          ]
        }
      ]
    },
    {
      "cell_type": "code",
      "source": [
        "%%bash\n",
        "g++  main.cpp vector_ops.cpp -o vector_ops\n",
        "./vector_ops"
      ],
      "metadata": {
        "colab": {
          "base_uri": "https://localhost:8080/"
        },
        "id": "3nxUSvZnKw4V",
        "outputId": "3eb901c8-b6f9-4c46-b8cd-15c62fe45421"
      },
      "execution_count": null,
      "outputs": [
        {
          "output_type": "stream",
          "name": "stdout",
          "text": [
            "v1: [3.000000, 4.000000, 5.000000]\n",
            "v2: [12.000000, 20.000000, 10.000000]\n",
            "v1 * v2: [36.000000, 80.000000, 50.000000]\n",
            "v1/v2: [0.250000, 0.200000, 0.500000]\n",
            "v1 - v2: [-9.000000, -16.000000, -5.000000]\n",
            "v1 + v2: [15.000000, 24.000000, 15.000000]\n"
          ]
        }
      ]
    }
  ]
}